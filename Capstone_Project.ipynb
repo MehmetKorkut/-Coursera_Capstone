{
  "nbformat": 4,
  "nbformat_minor": 0,
  "metadata": {
    "colab": {
      "name": "Untitled9.ipynb",
      "provenance": [],
      "collapsed_sections": []
    },
    "kernelspec": {
      "name": "python3",
      "display_name": "Python 3"
    },
    "language_info": {
      "name": "python"
    }
  },
  "cells": [
    {
      "cell_type": "markdown",
      "metadata": {
        "id": "juUhvilPFfp5"
      },
      "source": [
        "This notebook is mainly used for the capstone project. The project is about a case study. I will be using location data in order to do city segmentation and clustering. The location data is gathered from Foursquare API."
      ]
    },
    {
      "cell_type": "code",
      "metadata": {
        "id": "1Sm55oe7EVY-"
      },
      "source": [
        "import pandas as pd\n",
        "import numpy as np"
      
      ],
      "execution_count": null,
      "outputs": []
    },
    {
      "cell_type": "markdown",
      "metadata": {
        "id": "oJfMCXNvEZ0c"
      },
      "source": [
        "# Hello Capstone Project Course!\n"
      ]
    }
  ]
}
